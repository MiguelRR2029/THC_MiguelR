{
  "nbformat": 4,
  "nbformat_minor": 0,
  "metadata": {
    "colab": {
      "provenance": [],
      "authorship_tag": "ABX9TyNpXTEQAnmmZfFAnUSEseVH",
      "include_colab_link": true
    },
    "kernelspec": {
      "name": "python3",
      "display_name": "Python 3"
    },
    "language_info": {
      "name": "python"
    }
  },
  "cells": [
    {
      "cell_type": "markdown",
      "metadata": {
        "id": "view-in-github",
        "colab_type": "text"
      },
      "source": [
        "<a href=\"https://colab.research.google.com/github/MiguelRR2029/THC_MiguelR/blob/main/Clase_19_10_2023.ipynb\" target=\"_parent\"><img src=\"https://colab.research.google.com/assets/colab-badge.svg\" alt=\"Open In Colab\"/></a>"
      ]
    },
    {
      "cell_type": "code",
      "execution_count": null,
      "metadata": {
        "colab": {
          "base_uri": "https://localhost:8080/"
        },
        "id": "naPfVwxODopC",
        "outputId": "7a6861d6-aa90-4be8-8255-1c048ff85ea0"
      },
      "outputs": [
        {
          "output_type": "stream",
          "name": "stdout",
          "text": [
            "[1 2 3 4 5]\n",
            "<class 'numpy.ndarray'>\n"
          ]
        }
      ],
      "source": [
        "import numpy as np\n",
        "arr = np.array([1, 2, 3, 4, 5])\n",
        "\n",
        "print(arr)\n",
        "\n",
        "print(type(arr))"
      ]
    },
    {
      "cell_type": "code",
      "source": [
        "import numpy as np\n",
        "arr = np.array([[1, 2, 3], [4, 5, 6]])\n",
        "\n",
        "print(arr)"
      ],
      "metadata": {
        "colab": {
          "base_uri": "https://localhost:8080/"
        },
        "id": "oUYgmBftEwWk",
        "outputId": "201c3bf9-d040-4cd5-8b42-68409061f6d9"
      },
      "execution_count": null,
      "outputs": [
        {
          "output_type": "stream",
          "name": "stdout",
          "text": [
            "[[1 2 3]\n",
            " [4 5 6]]\n"
          ]
        }
      ]
    },
    {
      "cell_type": "code",
      "source": [
        "import numpy as np\n",
        "arr = np.array([[[1, 2, 3], [4, 5, 6]],[[1, 2, 3], [4, 5, 6]]])\n",
        "\n",
        "print(arr)"
      ],
      "metadata": {
        "colab": {
          "base_uri": "https://localhost:8080/"
        },
        "id": "jrzcTld8GNYD",
        "outputId": "812aa220-42bf-4cbe-c5d9-b5fafed60f49"
      },
      "execution_count": null,
      "outputs": [
        {
          "output_type": "stream",
          "name": "stdout",
          "text": [
            "[[[1 2 3]\n",
            "  [4 5 6]]\n",
            "\n",
            " [[1 2 3]\n",
            "  [4 5 6]]]\n"
          ]
        }
      ]
    },
    {
      "cell_type": "code",
      "source": [
        "import numpy as np\n",
        "a = np.array(42)\n",
        "b = np.array([1, 2, 3, 4, 5])\n",
        "c = np.array([[1, 2, 3], [4, 5, 6]])\n",
        "d = np.array([[[1, 2, 3], [4, 5, 6]],[[1, 2, 3], [4, 5, 6]]])\n",
        "\n",
        "print(a.ndim,a.shape)\n",
        "print(b.ndim,b.shape)\n",
        "print(c.ndim,c.shape)\n",
        "print(d.ndim,d.shape)\n",
        "\n",
        "\n"
      ],
      "metadata": {
        "colab": {
          "base_uri": "https://localhost:8080/"
        },
        "id": "KTlzQgUvG6BM",
        "outputId": "609aacae-f387-442f-d95c-84df5aa08b70"
      },
      "execution_count": null,
      "outputs": [
        {
          "output_type": "stream",
          "name": "stdout",
          "text": [
            "0 ()\n",
            "1 (5,)\n",
            "2 (2, 3)\n",
            "3 (2, 2, 3)\n"
          ]
        }
      ]
    },
    {
      "cell_type": "code",
      "source": [
        "import numpy as np\n",
        "arr = np.array([[[1, 2, 3], [4, 5, 6]],[[7, 8, 9], [10, 11, 12]]])\n",
        "print(arr[0,1,2])"
      ],
      "metadata": {
        "colab": {
          "base_uri": "https://localhost:8080/"
        },
        "id": "cNAfgGcGHZZr",
        "outputId": "5368a77e-d6ad-4abe-e3f7-1f35a26b3263"
      },
      "execution_count": null,
      "outputs": [
        {
          "output_type": "stream",
          "name": "stdout",
          "text": [
            "6\n"
          ]
        }
      ]
    },
    {
      "cell_type": "code",
      "source": [
        "l = ([1, 2, 3], [4, 5, 6], [7, 8, 9])\n",
        "suma=0\n",
        "for i in range(len(l)):\n",
        "  for j in range(len(l)):\n",
        "    suma=suma+l[i][j]\n",
        "print(suma)"
      ],
      "metadata": {
        "colab": {
          "base_uri": "https://localhost:8080/"
        },
        "id": "GCjlP5SwJ1hU",
        "outputId": "267f91e7-41d7-4319-d959-3f6ddd144e12"
      },
      "execution_count": null,
      "outputs": [
        {
          "output_type": "stream",
          "name": "stdout",
          "text": [
            "45\n"
          ]
        }
      ]
    },
    {
      "cell_type": "code",
      "source": [
        "import numpy as np\n",
        "arr = np.array([[1, 2, 3], [4, 5, 6], [7, 8, 9]])\n",
        "suma=0\n",
        "for i in range(len(arr)):\n",
        "  for j in range(len(arr)):\n",
        "    suma=suma+arr[i,j]\n",
        "print(suma)"
      ],
      "metadata": {
        "colab": {
          "base_uri": "https://localhost:8080/"
        },
        "id": "AvD0AYOcMwz8",
        "outputId": "1e2241f5-77c2-4c53-c46e-0b88d760c79b"
      },
      "execution_count": null,
      "outputs": [
        {
          "output_type": "stream",
          "name": "stdout",
          "text": [
            "45\n"
          ]
        }
      ]
    },
    {
      "cell_type": "code",
      "source": [
        "l = ([1, 1, 1], [1, 1, 1], [1, 1, 1])\n",
        "L = ([1, 1, 1], [1, 1, 1], [1, 1, 1])\n",
        "prod=1\n",
        "suma=0\n",
        "n=len(l)\n",
        "C=n*[[0.0, 0.0, 0.0]]\n",
        "for i in range(len(l)):\n",
        "  for j in range(len(l)):\n",
        "    C[i][j]=l[i][j]*L[i][j]\n",
        "  suma=suma+C[i][j]\n",
        "  print(suma)"
      ],
      "metadata": {
        "colab": {
          "base_uri": "https://localhost:8080/"
        },
        "id": "9N3bWsVwNRaO",
        "outputId": "e92e4be1-eb39-4bab-9e7f-00eeec720a7b"
      },
      "execution_count": null,
      "outputs": [
        {
          "output_type": "stream",
          "name": "stdout",
          "text": [
            "1\n",
            "2\n",
            "3\n"
          ]
        }
      ]
    },
    {
      "cell_type": "code",
      "source": [
        "\n",
        "def prodpunto(a,b):\n",
        "  pp=0\n",
        "  for i in range (len(a)):\n",
        "    pp=pp+a[i]*b[i]\n",
        "  return pp\n"
      ],
      "metadata": {
        "id": "8xLTEA84RC2G"
      },
      "execution_count": null,
      "outputs": []
    },
    {
      "cell_type": "code",
      "source": [
        "arr2 = np.array([[1, 1, 1], [1, 1, 1], [1, 1, 1]])\n",
        "arr3 = np.array([[1, 1, 1], [1, 1, 1], [1, 1, 1]])\n",
        "Pp_por_reng=np.array([0,0,0])\n",
        "Pp_por_col=np.array([0,0,0])\n"
      ],
      "metadata": {
        "id": "U4topZ7eXFx2"
      },
      "execution_count": null,
      "outputs": []
    },
    {
      "cell_type": "code",
      "source": [
        "for i in range(len(arr2)):\n",
        "  Pp_por_reng[i]=prodpunto(arr2[i],arr3[i])\n",
        "\n",
        "Pp_por_reng"
      ],
      "metadata": {
        "colab": {
          "base_uri": "https://localhost:8080/"
        },
        "id": "iaxZFD-NXmof",
        "outputId": "dd6abb9d-40c0-4a4a-dfa9-0198b7e90895"
      },
      "execution_count": null,
      "outputs": [
        {
          "output_type": "execute_result",
          "data": {
            "text/plain": [
              "array([3, 3, 3])"
            ]
          },
          "metadata": {},
          "execution_count": 77
        }
      ]
    },
    {
      "cell_type": "code",
      "source": [
        "def AC(a,col):\n",
        "  nuevo=[]\n",
        "  for i in range(len(a)):\n",
        "    nuevo.append(a[i,col])\n",
        "\n",
        "  return np.array(nuevo)"
      ],
      "metadata": {
        "id": "CZuxxkX-YzfR"
      },
      "execution_count": null,
      "outputs": []
    },
    {
      "cell_type": "code",
      "source": [
        "coll=AC(arr2,0)\n",
        "coll"
      ],
      "metadata": {
        "colab": {
          "base_uri": "https://localhost:8080/"
        },
        "id": "Wr8HO563ZbI5",
        "outputId": "ed11eb1d-9255-4d33-9d7c-a93caa190891"
      },
      "execution_count": null,
      "outputs": [
        {
          "output_type": "execute_result",
          "data": {
            "text/plain": [
              "array([1, 1, 1])"
            ]
          },
          "metadata": {},
          "execution_count": 86
        }
      ]
    },
    {
      "cell_type": "code",
      "source": [
        "for i in range(len(arr2)):\n",
        "  Pp_por_col[i]=prodpunto(AC(arr2,i),AC(arr3,i))\n",
        "\n",
        "Pp_por_col"
      ],
      "metadata": {
        "colab": {
          "base_uri": "https://localhost:8080/"
        },
        "id": "A4mRWaymZtS0",
        "outputId": "56cfb507-950c-4494-8870-256749a32aeb"
      },
      "execution_count": null,
      "outputs": [
        {
          "output_type": "execute_result",
          "data": {
            "text/plain": [
              "array([3, 3, 3])"
            ]
          },
          "metadata": {},
          "execution_count": 87
        }
      ]
    }
  ]
}