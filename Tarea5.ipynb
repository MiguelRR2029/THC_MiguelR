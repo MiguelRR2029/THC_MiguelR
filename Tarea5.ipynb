{
  "nbformat": 4,
  "nbformat_minor": 0,
  "metadata": {
    "colab": {
      "provenance": [],
      "authorship_tag": "ABX9TyPF02H+oF+e5pz5yIZzRvn1",
      "include_colab_link": true
    },
    "kernelspec": {
      "name": "python3",
      "display_name": "Python 3"
    },
    "language_info": {
      "name": "python"
    }
  },
  "cells": [
    {
      "cell_type": "markdown",
      "metadata": {
        "id": "view-in-github",
        "colab_type": "text"
      },
      "source": [
        "<a href=\"https://colab.research.google.com/github/MiguelRR2029/THC_MiguelR/blob/main/Tarea5.ipynb\" target=\"_parent\"><img src=\"https://colab.research.google.com/assets/colab-badge.svg\" alt=\"Open In Colab\"/></a>"
      ]
    },
    {
      "cell_type": "markdown",
      "source": [
        "1. Declarar una lista con 5 números. Posteriormente pedirle al usuario que ingrese 5 números los cuales se deberán guardar en la lista. Finalmente, obtenga el promedio de los valores en la lista."
      ],
      "metadata": {
        "id": "N1Iedtdtf-qX"
      }
    },
    {
      "cell_type": "code",
      "execution_count": null,
      "metadata": {
        "colab": {
          "base_uri": "https://localhost:8080/"
        },
        "id": "mEDnHRUCf3f5",
        "outputId": "2c442988-09c3-464a-a46a-1caf642a0f60"
      },
      "outputs": [
        {
          "output_type": "stream",
          "name": "stdout",
          "text": [
            "ingrese el primer número: 5\n",
            "ingrese el segundo número: 4\n",
            "ingrese el tercer número: 3\n",
            "ingrese el cuarto número: 2\n",
            "ingrese el quinto número: 1\n",
            "3.0\n"
          ]
        }
      ],
      "source": [
        "#Se le solicita al usuario 5 números\n",
        "a = float(input(\"ingrese el primer número: \"))\n",
        "b = float(input(\"ingrese el segundo número: \"))\n",
        "c = float(input(\"ingrese el tercer número: \"))\n",
        "d = float(input(\"ingrese el cuarto número: \"))\n",
        "e = float(input(\"ingrese el quinto número: \"))\n",
        "#Se hace una lista con esos 5 números\n",
        "num = [a, b, c, d, e]\n",
        "#Se define una fórmula para la suma de estos 5 números\n",
        "sum = 0\n",
        "for i in num:\n",
        "  sum = sum + i\n",
        "#Se pide que imprima la suma dividida entre 5 para sacar el promedio de estos 5 números\n",
        "print(sum / 5)\n"
      ]
    },
    {
      "cell_type": "markdown",
      "source": [
        "2. Escribe un programa que encuentre el valor máximo y mínimo en una lista de números.\n"
      ],
      "metadata": {
        "id": "HTBffZtCf9sY"
      }
    },
    {
      "cell_type": "code",
      "source": [
        "#Se le solicita al usuario 5 números\n",
        "a = float(input(\"ingrese el primer número: \"))\n",
        "b = float(input(\"ingrese el segundo número: \"))\n",
        "c = float(input(\"ingrese el tercer número: \"))\n",
        "d = float(input(\"ingrese el cuarto número: \"))\n",
        "e = float(input(\"ingrese el quinto número: \"))\n",
        "#Se hace una lista con esos 5 números\n",
        "num = [a, b, c, d, e]\n",
        "#Se define una fórmula para decir cual es el número mayor de estos 5 números\n",
        "mayor = a\n",
        "for i in num:\n",
        "  mayor = max(mayor,i)\n",
        "#Se pide que imprima mayor número de estos 5 números\n",
        "print(\"El mayor número es :\", mayor)\n",
        "#Se define una fórmula para decir cual es el número menor de estos 5 números\n",
        "menor = a\n",
        "for i in num:\n",
        "  menor = min(menor,i)\n",
        "#Se pide que imprima menor número de estos 5 números\n",
        "print(\"El menor número es: \", menor)"
      ],
      "metadata": {
        "colab": {
          "base_uri": "https://localhost:8080/"
        },
        "id": "id1_FFqfBtaj",
        "outputId": "337e0f0d-4459-4130-8a31-0d3d6b6c88bc"
      },
      "execution_count": null,
      "outputs": [
        {
          "output_type": "stream",
          "name": "stdout",
          "text": [
            "ingrese el primer número: 9\n",
            "ingrese el segundo número: 54\n",
            "ingrese el tercer número: 3\n",
            "ingrese el cuarto número: 0\n",
            "ingrese el quinto número: 9\n",
            "El mayor número es : 54.0\n",
            "El menor número es:  0.0\n"
          ]
        }
      ]
    },
    {
      "cell_type": "markdown",
      "source": [
        "3. Dada una lista de números, crea dos listas separadas: una para números pares y otra para números impares.\n"
      ],
      "metadata": {
        "id": "TiBysRTfgFuk"
      }
    },
    {
      "cell_type": "code",
      "source": [
        "#Se le solicita al usuario 5 números\n",
        "a = float(input(\"ingrese el primer número: \"))\n",
        "b = float(input(\"ingrese el segundo número: \"))\n",
        "c = float(input(\"ingrese el tercer número: \"))\n",
        "d = float(input(\"ingrese el cuarto número: \"))\n",
        "e = float(input(\"ingrese el quinto número: \"))\n",
        "#Se hace una lista con esos 5 números y dos listas vacias que van a contener a los pares e impares\n",
        "num = [a, b, c, d, e]\n",
        "pares=[]\n",
        "impares=[]\n",
        "#Se define una fórmula para decir si un número es par y agregarlo a la lista de los pares\n",
        "for i in num:\n",
        "  if i%2 == 0:\n",
        "    pares.append(i)\n",
        "#Se define una fórmula para decir si un número es impar y agregarlo a la lista de los impares\n",
        "  elif i%2 == 1:\n",
        "    impares.append(i)\n",
        "#Se imprimen las listas de pares e impares\n",
        "print(\"Números pares:\", pares)\n",
        "print(\"Números impares:\", impares)"
      ],
      "metadata": {
        "colab": {
          "base_uri": "https://localhost:8080/"
        },
        "id": "TDcEowEcMswV",
        "outputId": "bc889340-36b2-4a90-b76a-e5e3a6bf5b99"
      },
      "execution_count": null,
      "outputs": [
        {
          "output_type": "stream",
          "name": "stdout",
          "text": [
            "ingrese el primer número: 8\n",
            "ingrese el segundo número: 9\n",
            "ingrese el tercer número: 6\n",
            "ingrese el cuarto número: 4\n",
            "ingrese el quinto número: 5\n",
            "Números pares: [8.0, 6.0, 4.0]\n",
            "Números impares: [9.0, 5.0]\n"
          ]
        }
      ]
    }
  ]
}