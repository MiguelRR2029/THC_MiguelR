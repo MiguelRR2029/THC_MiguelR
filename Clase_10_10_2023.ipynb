{
  "nbformat": 4,
  "nbformat_minor": 0,
  "metadata": {
    "colab": {
      "provenance": [],
      "authorship_tag": "ABX9TyMc3Mgc3oJIOyquD3F+QACC",
      "include_colab_link": true
    },
    "kernelspec": {
      "name": "python3",
      "display_name": "Python 3"
    },
    "language_info": {
      "name": "python"
    }
  },
  "cells": [
    {
      "cell_type": "markdown",
      "metadata": {
        "id": "view-in-github",
        "colab_type": "text"
      },
      "source": [
        "<a href=\"https://colab.research.google.com/github/MiguelRR2029/THC_MiguelR/blob/main/Clase_10_10_2023.ipynb\" target=\"_parent\"><img src=\"https://colab.research.google.com/assets/colab-badge.svg\" alt=\"Open In Colab\"/></a>"
      ]
    },
    {
      "cell_type": "code",
      "execution_count": null,
      "metadata": {
        "colab": {
          "base_uri": "https://localhost:8080/"
        },
        "id": "MOkvOpr9u8qi",
        "outputId": "495c1be5-008f-4339-b1f9-cad288e68564"
      },
      "outputs": [
        {
          "output_type": "stream",
          "name": "stdout",
          "text": [
            "{'brand': 'Ford', 'model': 'Mustang', 'year': 2020}\n"
          ]
        }
      ],
      "source": [
        "thisdict = {\n",
        "    \"brand\": \"Ford\",\n",
        "    \"model\": \"Mustang\",\n",
        "    \"year\": 1964,\n",
        "    \"year\": 2020\n",
        "}\n",
        "print(thisdict)"
      ]
    },
    {
      "cell_type": "code",
      "source": [
        "diccionario = {'python': 2.7, 'zope':2.13, 'plone':5.7}\n",
        "\n",
        "l=[]\n",
        "for i in diccionario.keys():\n",
        "  print(i)\n",
        "  l.append(diccionario[i])\n",
        "\n",
        "print(l)"
      ],
      "metadata": {
        "colab": {
          "base_uri": "https://localhost:8080/"
        },
        "id": "8pXvBArVxE3j",
        "outputId": "7fb5567c-f8e9-4323-9196-7777783acacf"
      },
      "execution_count": null,
      "outputs": [
        {
          "output_type": "stream",
          "name": "stdout",
          "text": [
            "python\n",
            "zope\n",
            "plone\n",
            "[2.7, 2.13, 5.7]\n"
          ]
        }
      ]
    },
    {
      "cell_type": "code",
      "source": [
        "import pandas as pd\n",
        "\n",
        "#Crear un diccionario con datos\n",
        "datos = {\n",
        "    'Nombre': ['Juan', 'Maria', 'Pedro', 'Luisa'],\n",
        "    'Edad':[25, 28, 22, 30],\n",
        "    'Ciudad': ['Madrid', 'Barcelona', 'Valencia', 'Sevilla']\n",
        "}\n",
        "\n",
        "#Crear un DataFrame a partir del diccionario\n",
        "dataframe = pd.DataFrame(datos)\n",
        "\n",
        "#Mostrar el DataFrame\n",
        "print(dataframe)"
      ],
      "metadata": {
        "colab": {
          "base_uri": "https://localhost:8080/"
        },
        "id": "jYHNLW-NyPm7",
        "outputId": "4b3970d0-f54c-489c-cd2c-fdc08daf618b"
      },
      "execution_count": null,
      "outputs": [
        {
          "output_type": "stream",
          "name": "stdout",
          "text": [
            "  Nombre  Edad     Ciudad\n",
            "0   Juan    25     Madrid\n",
            "1  Maria    28  Barcelona\n",
            "2  Pedro    22   Valencia\n",
            "3  Luisa    30    Sevilla\n"
          ]
        }
      ]
    },
    {
      "cell_type": "code",
      "source": [
        "frutas=(\"fresa\", \"uva\", \"pera\")\n",
        "for fruta in frutas:\n",
        "  print(fruta)"
      ],
      "metadata": {
        "colab": {
          "base_uri": "https://localhost:8080/"
        },
        "id": "Ahy4uAGc0fib",
        "outputId": "d45bd6ed-7640-4402-afe5-307b85da40d0"
      },
      "execution_count": null,
      "outputs": [
        {
          "output_type": "stream",
          "name": "stdout",
          "text": [
            "fresa\n",
            "uva\n",
            "pera\n"
          ]
        }
      ]
    },
    {
      "cell_type": "code",
      "source": [
        "if\"fresa\" in frutas:\n",
        "  print(\"si, la fresa esta en la tupla\")"
      ],
      "metadata": {
        "colab": {
          "base_uri": "https://localhost:8080/"
        },
        "id": "Nrl9_lbv1auz",
        "outputId": "811b2cde-89a3-419c-ae88-41a9d1d3f6b1"
      },
      "execution_count": null,
      "outputs": [
        {
          "output_type": "stream",
          "name": "stdout",
          "text": [
            "si, la fresa esta en la tupla\n"
          ]
        }
      ]
    },
    {
      "cell_type": "code",
      "source": [
        "def mi_funcion():\n",
        "  print(\"Hola, te saludo desde la función\")"
      ],
      "metadata": {
        "id": "1BBlp4Xu2fCD"
      },
      "execution_count": null,
      "outputs": []
    },
    {
      "cell_type": "code",
      "source": [
        "mi_funcion()"
      ],
      "metadata": {
        "colab": {
          "base_uri": "https://localhost:8080/"
        },
        "id": "9z51uF_D22XK",
        "outputId": "69b4f2ed-9ad5-4727-e5ca-9755f2c769cf"
      },
      "execution_count": null,
      "outputs": [
        {
          "output_type": "stream",
          "name": "stdout",
          "text": [
            "Hola, te saludo desde la función\n"
          ]
        }
      ]
    },
    {
      "cell_type": "code",
      "source": [
        "def mi_funcion_nueva(fname):\n",
        "  print(\"hola \"+fname+\" te saludo desde la función\")\n",
        "mi_funcion_nueva(\"Miguel\")"
      ],
      "metadata": {
        "colab": {
          "base_uri": "https://localhost:8080/"
        },
        "id": "oNRUeGIw3O4b",
        "outputId": "70a6cdb2-9bb8-48d6-8fe5-510e8f71934a"
      },
      "execution_count": null,
      "outputs": [
        {
          "output_type": "stream",
          "name": "stdout",
          "text": [
            "hola Miguel te saludo desde la función\n"
          ]
        }
      ]
    },
    {
      "cell_type": "code",
      "source": [
        "def Nombre(fname,lname):\n",
        "  print(\"hola \"+fname+\" \"+lname+ \" te saludo desde la función\")\n",
        "Nombre(\"Miguel\", \"cc\")"
      ],
      "metadata": {
        "colab": {
          "base_uri": "https://localhost:8080/"
        },
        "id": "9A6De9P82iUp",
        "outputId": "939ada52-75d9-4c66-9829-bec8b72920ae"
      },
      "execution_count": null,
      "outputs": [
        {
          "output_type": "stream",
          "name": "stdout",
          "text": [
            "hola Miguel cc te saludo desde la función\n"
          ]
        }
      ]
    },
    {
      "cell_type": "code",
      "source": [
        "def mi_funcion(*kids):\n",
        "  print(\"El niño menor es \" +kids[2])\n",
        "mi_funcion(\"Emil\", \"Tobias\", \"Linus\", \"Andy\")"
      ],
      "metadata": {
        "colab": {
          "base_uri": "https://localhost:8080/"
        },
        "id": "mEV1PZO9445b",
        "outputId": "21dcb03b-4c94-4a51-8419-95dbdfb72ebb"
      },
      "execution_count": null,
      "outputs": [
        {
          "output_type": "stream",
          "name": "stdout",
          "text": [
            "El niño menor es Linus\n"
          ]
        }
      ]
    },
    {
      "cell_type": "code",
      "source": [
        "def sum_vec(A,B):\n",
        "  if len(A) ==len(B):\n",
        "    n=len(A)\n",
        "    C=n*[0.0] #lista de ceros\n",
        "    for i in range(n):\n",
        "        C[i]=A[i]+B[i]\n",
        "    print(C)\n",
        "  else:\n",
        "    print(\"nose\")\n",
        "sum_vec(A=[23,4,1], B=[34,4,6])"
      ],
      "metadata": {
        "colab": {
          "base_uri": "https://localhost:8080/"
        },
        "id": "2xxZpFqZ5omr",
        "outputId": "d1922839-52f0-4912-d96a-d16c8ce4d057"
      },
      "execution_count": null,
      "outputs": [
        {
          "output_type": "stream",
          "name": "stdout",
          "text": [
            "[57, 8, 7]\n"
          ]
        }
      ]
    }
  ]
}