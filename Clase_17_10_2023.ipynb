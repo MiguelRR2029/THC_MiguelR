{
  "nbformat": 4,
  "nbformat_minor": 0,
  "metadata": {
    "colab": {
      "provenance": [],
      "authorship_tag": "ABX9TyPr+tyqa9VcuUdEIicL6rzm",
      "include_colab_link": true
    },
    "kernelspec": {
      "name": "python3",
      "display_name": "Python 3"
    },
    "language_info": {
      "name": "python"
    }
  },
  "cells": [
    {
      "cell_type": "markdown",
      "metadata": {
        "id": "view-in-github",
        "colab_type": "text"
      },
      "source": [
        "<a href=\"https://colab.research.google.com/github/MiguelRR2029/THC_MiguelR/blob/main/Clase_17_10_2023.ipynb\" target=\"_parent\"><img src=\"https://colab.research.google.com/assets/colab-badge.svg\" alt=\"Open In Colab\"/></a>"
      ]
    },
    {
      "cell_type": "code",
      "execution_count": null,
      "metadata": {
        "colab": {
          "base_uri": "https://localhost:8080/"
        },
        "id": "yMQxNDN0wTqF",
        "outputId": "a12553d3-262a-4e48-c221-2a8f96674814"
      },
      "outputs": [
        {
          "output_type": "stream",
          "name": "stdout",
          "text": [
            "3\n"
          ]
        }
      ],
      "source": [
        "import random\n",
        "\n",
        "print(random.randint(3,9))"
      ]
    },
    {
      "cell_type": "code",
      "source": [
        "import random\n",
        "\n",
        "mylist =[\"apple\", \"banana\", \"cherry\"]\n",
        "\n",
        "print(random.choice(mylist))"
      ],
      "metadata": {
        "colab": {
          "base_uri": "https://localhost:8080/"
        },
        "id": "-IzOZR5v0-dn",
        "outputId": "a6801664-284d-411c-c281-8372900dac83"
      },
      "execution_count": null,
      "outputs": [
        {
          "output_type": "stream",
          "name": "stdout",
          "text": [
            "apple\n"
          ]
        }
      ]
    },
    {
      "cell_type": "code",
      "source": [
        "A = [[1,2,3],[4,5,6],[7,8,9]]\n",
        "B = [[10,11,12],[13,14,15],[16,17,18]]\n",
        "for i in range(len(A)):\n",
        "  print(A[0][i])\n",
        "  print(A[1][i])\n",
        "  print(A[2][i])\n",
        "for i in range(len(A)):\n",
        "  print(A[i][0])\n",
        "  print(A[i][1])\n",
        "  print(A[i][2])"
      ],
      "metadata": {
        "colab": {
          "base_uri": "https://localhost:8080/"
        },
        "id": "L3exJXAd1Pu4",
        "outputId": "ff2af6c0-1ee3-41f7-a8ca-29b7626a34e8"
      },
      "execution_count": null,
      "outputs": [
        {
          "output_type": "stream",
          "name": "stdout",
          "text": [
            "1\n",
            "4\n",
            "7\n",
            "2\n",
            "5\n",
            "8\n",
            "3\n",
            "6\n",
            "9\n",
            "1\n",
            "2\n",
            "3\n",
            "4\n",
            "5\n",
            "6\n",
            "7\n",
            "8\n",
            "9\n"
          ]
        }
      ]
    },
    {
      "cell_type": "code",
      "source": [
        "A = [[1,2,3],[4,5,6],[7,8,9]]\n",
        "B = [[10,11,12],[13,14,15],[16,17,18]]\n",
        "for j in range(len(A)):\n",
        "  for i in range(len(A)):\n",
        "    print(A[j][i])\n"
      ],
      "metadata": {
        "colab": {
          "base_uri": "https://localhost:8080/"
        },
        "id": "7bq8wwwB59jP",
        "outputId": "50e20ed2-878b-4956-fc2f-278c119abad3"
      },
      "execution_count": null,
      "outputs": [
        {
          "output_type": "stream",
          "name": "stdout",
          "text": [
            "1\n",
            "2\n",
            "3\n",
            "4\n",
            "5\n",
            "6\n",
            "7\n",
            "8\n",
            "9\n"
          ]
        }
      ]
    },
    {
      "cell_type": "code",
      "source": [
        "A = [[1,2,3],[4,5,6],[7,8,9]]\n",
        "B = [[10,11,12],[13,14,15],[16,17,18]]\n",
        "for j in range(len(A)):\n",
        "  for i in range(len(A)):\n",
        "    print(A[i][j])"
      ],
      "metadata": {
        "colab": {
          "base_uri": "https://localhost:8080/"
        },
        "id": "WWlb9ndK8bBi",
        "outputId": "adc18360-c919-462d-9f7a-675e72237013"
      },
      "execution_count": null,
      "outputs": [
        {
          "output_type": "stream",
          "name": "stdout",
          "text": [
            "1\n",
            "4\n",
            "7\n",
            "2\n",
            "5\n",
            "8\n",
            "3\n",
            "6\n",
            "9\n"
          ]
        }
      ]
    },
    {
      "cell_type": "code",
      "source": [
        "A = [[1,2,3],[4,5,6],[7,8,9]]\n",
        "B = [[10,11,12],[13,14,15],[16,17,18]]\n",
        "for j in range(len(A)):\n",
        "  for i in range(len(A)):\n",
        "    print(A[j][i]+B[j][i])"
      ],
      "metadata": {
        "colab": {
          "base_uri": "https://localhost:8080/"
        },
        "id": "WsdLHtLG8lwb",
        "outputId": "90d17173-6f6f-489a-c379-c186cefedbba"
      },
      "execution_count": null,
      "outputs": [
        {
          "output_type": "stream",
          "name": "stdout",
          "text": [
            "11\n",
            "13\n",
            "15\n",
            "17\n",
            "19\n",
            "21\n",
            "23\n",
            "25\n",
            "27\n"
          ]
        }
      ]
    },
    {
      "cell_type": "code",
      "source": [
        "A = [[1,2,3],[4,5,6],[7,8,9]]\n",
        "B = [[10,11,12],[13,14,15],[16,17,18]]\n",
        "for j in range(len(A)):\n",
        "  for i in range(len(A)):\n",
        "    print(A[j][i]*B[j][i])"
      ],
      "metadata": {
        "colab": {
          "base_uri": "https://localhost:8080/"
        },
        "id": "a2xWauTNkYVT",
        "outputId": "4218ad58-056e-4f21-c600-52b37969db23"
      },
      "execution_count": 1,
      "outputs": [
        {
          "output_type": "stream",
          "name": "stdout",
          "text": [
            "10\n",
            "22\n",
            "36\n",
            "52\n",
            "70\n",
            "90\n",
            "112\n",
            "136\n",
            "162\n"
          ]
        }
      ]
    },
    {
      "cell_type": "code",
      "source": [
        "\n",
        "l = [5,4,3,2,1]\n",
        "n=len(l)\n",
        "for i in range(n-1):\n",
        "  if l[i]>l[i+1]:\n",
        "    print(l)\n",
        "    aux=l[i+1]\n",
        "    l[i+1]=l[i]\n",
        "    l[i]=aux\n",
        "    print(\"lista ordenada\", l)"
      ],
      "metadata": {
        "colab": {
          "base_uri": "https://localhost:8080/"
        },
        "id": "iaE-TX6fAlvx",
        "outputId": "6a0ebab0-ab9f-467a-bd2b-2f269928a90f"
      },
      "execution_count": null,
      "outputs": [
        {
          "output_type": "stream",
          "name": "stdout",
          "text": [
            "[5, 4, 3, 2, 1]\n",
            "lista ordenada [4, 5, 3, 2, 1]\n",
            "[4, 5, 3, 2, 1]\n",
            "lista ordenada [4, 3, 5, 2, 1]\n",
            "[4, 3, 5, 2, 1]\n",
            "lista ordenada [4, 3, 2, 5, 1]\n",
            "[4, 3, 2, 5, 1]\n",
            "lista ordenada [4, 3, 2, 1, 5]\n"
          ]
        }
      ]
    },
    {
      "cell_type": "code",
      "source": [],
      "metadata": {
        "id": "N9OM57n5GaqO"
      },
      "execution_count": null,
      "outputs": []
    }
  ]
}