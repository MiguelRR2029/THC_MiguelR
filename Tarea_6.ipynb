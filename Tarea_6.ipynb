{
  "nbformat": 4,
  "nbformat_minor": 0,
  "metadata": {
    "colab": {
      "provenance": [],
      "authorship_tag": "ABX9TyP1vqlp6UBfHU7inY1Of81H",
      "include_colab_link": true
    },
    "kernelspec": {
      "name": "python3",
      "display_name": "Python 3"
    },
    "language_info": {
      "name": "python"
    }
  },
  "cells": [
    {
      "cell_type": "markdown",
      "metadata": {
        "id": "view-in-github",
        "colab_type": "text"
      },
      "source": [
        "<a href=\"https://colab.research.google.com/github/MiguelRR2029/THC_MiguelR/blob/main/Tarea_6.ipynb\" target=\"_parent\"><img src=\"https://colab.research.google.com/assets/colab-badge.svg\" alt=\"Open In Colab\"/></a>"
      ]
    },
    {
      "cell_type": "markdown",
      "source": [
        "Dado dos vectores, calcular:\n",
        "\n",
        "El Producto de los vectores\n"
      ],
      "metadata": {
        "id": "2-VusCxQWUo0"
      }
    },
    {
      "cell_type": "code",
      "execution_count": 12,
      "metadata": {
        "colab": {
          "base_uri": "https://localhost:8080/"
        },
        "id": "1Prqi5SvVrSw",
        "outputId": "bd05766c-6d7b-4f3f-e8d8-9282fbb3ea72"
      },
      "outputs": [
        {
          "output_type": "stream",
          "name": "stdout",
          "text": [
            "El producto de los vectores es:  [20, 126, 78]\n"
          ]
        }
      ],
      "source": [
        "#Creamos una tupla\n",
        "def prod_vec(A,B):\n",
        "#pedimos que sean iguales el número de elementos de A y B\n",
        "  if len(A) ==len(B):\n",
        "    n=len(A)\n",
        "    C=n*[0.0] #lista de ceros\n",
        "#Hacemos un bucle para todos los elementos de A y B\n",
        "    for i in range(n):\n",
        "#Realizamos la operación\n",
        "        C[i]=A[i]*B[i]\n",
        "#Pedimos que se imprima la operación\n",
        "    print(\"El producto de los vectores es: \", C)\n",
        "#En caso que no sean iguales se pone nose\n",
        "  else:\n",
        "    print(\"nose\")\n",
        "#definimos la tupla\n",
        "prod_vec(A=[5,9,13], B=[4,14,6])"
      ]
    },
    {
      "cell_type": "markdown",
      "source": [
        "La potencia de cada vector (n=3)\n"
      ],
      "metadata": {
        "id": "qwFgmvWWWTkf"
      }
    },
    {
      "cell_type": "code",
      "source": [
        "#Creamos una tupla\n",
        "def potencia_vec(A,B):\n",
        "  if len(A) ==len(B):\n",
        "    n=len(A)\n",
        "    C=n*[0.0] #lista de ceros\n",
        "    D=n*[0.0]\n",
        "#Hacemos un bucle para todos los elementos de A y B\n",
        "    for i in range(n):\n",
        "#Realizamos la operación para A y para B\n",
        "        C[i]=A[i]**2\n",
        "        D[i]=B[i]**2\n",
        " #Pedimos que se impriman ambas operaciones\n",
        "    print(\"La potencia de cada vector es: \", C,D)\n",
        "#En caso que no sean iguales se pone nose\n",
        "  else:\n",
        "    print(\"nose\")\n",
        "#definimos la tupla\n",
        "potencia_vec(A=[3,15,1], B=[12,5,8])"
      ],
      "metadata": {
        "colab": {
          "base_uri": "https://localhost:8080/"
        },
        "id": "9xe_kUNwWj52",
        "outputId": "7942f15e-e4fe-438a-8078-8a003ba4bbbc"
      },
      "execution_count": 10,
      "outputs": [
        {
          "output_type": "stream",
          "name": "stdout",
          "text": [
            "La potencia de cada vector es:  [9, 225, 1] [144, 25, 64]\n"
          ]
        }
      ]
    },
    {
      "cell_type": "markdown",
      "source": [
        "El producto escalar.\n"
      ],
      "metadata": {
        "id": "KieYmFGXWkG0"
      }
    },
    {
      "cell_type": "code",
      "source": [
        "#Creamos una tupla\n",
        "def prod_vec(A,B):\n",
        "#pedimos que sean iguales el número de elementos de A y B\n",
        "  if len(A) ==len(B):\n",
        "    n=len(A)\n",
        "    C=n*[0.0] #lista de ceros\n",
        "    D=0\n",
        "#Hacemos un bucle para todos los elementos de A y B\n",
        "    for i in range(n):\n",
        "#Realizamos ambas operaciones\n",
        "        C[i]=A[i]*B[i]\n",
        "        D=C[i]+D\n",
        "#Pedimos que se imprima las operaciones\n",
        "    print(\"El producto escalar es: \", D)\n",
        "#En caso que no sean iguales se pone nose\n",
        "  else:\n",
        "    print(\"nose\")\n",
        "#definimos la tupla\n",
        "prod_vec(A=[19,4,7], B=[4,7,2])"
      ],
      "metadata": {
        "colab": {
          "base_uri": "https://localhost:8080/"
        },
        "id": "hyHRzhUdWm_y",
        "outputId": "4d2f3c3c-7bb3-4d80-8a87-26699c03b4d0"
      },
      "execution_count": 14,
      "outputs": [
        {
          "output_type": "stream",
          "name": "stdout",
          "text": [
            "El producto escalar es:  118\n"
          ]
        }
      ]
    }
  ]
}