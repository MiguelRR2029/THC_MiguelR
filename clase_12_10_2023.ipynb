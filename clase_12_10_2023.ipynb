{
  "nbformat": 4,
  "nbformat_minor": 0,
  "metadata": {
    "colab": {
      "provenance": [],
      "authorship_tag": "ABX9TyM12CI+daFtbOrDHUEoU+OI",
      "include_colab_link": true
    },
    "kernelspec": {
      "name": "python3",
      "display_name": "Python 3"
    },
    "language_info": {
      "name": "python"
    }
  },
  "cells": [
    {
      "cell_type": "markdown",
      "metadata": {
        "id": "view-in-github",
        "colab_type": "text"
      },
      "source": [
        "<a href=\"https://colab.research.google.com/github/MiguelRR2029/THC_MiguelR/blob/main/clase_12_10_2023.ipynb\" target=\"_parent\"><img src=\"https://colab.research.google.com/assets/colab-badge.svg\" alt=\"Open In Colab\"/></a>"
      ]
    },
    {
      "cell_type": "code",
      "source": [
        "x=lambda a,b,c:a+b+c\n",
        "print(x(3,6,8))"
      ],
      "metadata": {
        "colab": {
          "base_uri": "https://localhost:8080/"
        },
        "id": "B2bIrUZLII1j",
        "outputId": "412f523a-e23f-4153-c38d-50252aded99e"
      },
      "execution_count": null,
      "outputs": [
        {
          "output_type": "stream",
          "name": "stdout",
          "text": [
            "17\n"
          ]
        }
      ]
    },
    {
      "cell_type": "code",
      "execution_count": null,
      "metadata": {
        "colab": {
          "base_uri": "https://localhost:8080/"
        },
        "id": "k1iu6UDDEsHP",
        "outputId": "8530a115-b7e1-4c11-f42d-4c22f4bdcbe9"
      },
      "outputs": [
        {
          "output_type": "stream",
          "name": "stdout",
          "text": [
            "22\n"
          ]
        }
      ],
      "source": [
        "def mifunc(n):\n",
        "  return lambda a:a*n\n",
        "\n",
        "midoble=mifunc(2)\n",
        "print(midoble(11))"
      ]
    },
    {
      "cell_type": "code",
      "source": [
        "def mifunc(n):\n",
        "  return lambda a:a*n\n",
        "midoble=mifunc(2)\n",
        "mitriple=mifunc(3)\n",
        "print(midoble(11))\n",
        "print(mitriple(11))"
      ],
      "metadata": {
        "colab": {
          "base_uri": "https://localhost:8080/"
        },
        "id": "_YCreYlCH9n1",
        "outputId": "a2e570e0-46d1-47d7-fc45-20e4f2fdad24"
      },
      "execution_count": null,
      "outputs": [
        {
          "output_type": "stream",
          "name": "stdout",
          "text": [
            "22\n",
            "33\n"
          ]
        }
      ]
    },
    {
      "cell_type": "markdown",
      "source": [
        "Filtrar Números Pares:"
      ],
      "metadata": {
        "id": "piNiTyVsTDYA"
      }
    },
    {
      "cell_type": "code",
      "source": [
        "#intento uno con lambda\n",
        "def filter(lista):\n",
        "  for i in range(1,101):\n",
        "    return  lambda i:i%lista\n",
        "par=filter(2)\n",
        "if par==0:\n",
        "  print(i)"
      ],
      "metadata": {
        "id": "f_GoJQzdI5f6"
      },
      "execution_count": 30,
      "outputs": []
    },
    {
      "cell_type": "code",
      "source": [
        "\n",
        "#sinn lambda\n",
        "num=list(range(1,101))\n",
        "par=[]\n",
        "for i in num:\n",
        "  if i%2==0:\n",
        "    par.append(i)\n",
        "print(\"los pares son: \",par)\n"
      ],
      "metadata": {
        "colab": {
          "base_uri": "https://localhost:8080/"
        },
        "id": "PonnD47mT7XQ",
        "outputId": "d92ceffb-332d-4b0c-fb9d-f989a356b4f9"
      },
      "execution_count": 9,
      "outputs": [
        {
          "output_type": "stream",
          "name": "stdout",
          "text": [
            "los pares son:  [2, 4, 6, 8, 10, 12, 14, 16, 18, 20, 22, 24, 26, 28, 30, 32, 34, 36, 38, 40, 42, 44, 46, 48, 50, 52, 54, 56, 58, 60, 62, 64, 66, 68, 70, 72, 74, 76, 78, 80, 82, 84, 86, 88, 90, 92, 94, 96, 98, 100]\n"
          ]
        }
      ]
    },
    {
      "cell_type": "markdown",
      "source": [
        "Validador de Contraseña:"
      ],
      "metadata": {
        "id": "dFlTuyGDTHyQ"
      }
    },
    {
      "cell_type": "code",
      "source": [
        "#intento fallido\n",
        "name=\"Miguel\"\n",
        "carac=[\"%\",\".\",\"#\",\"$\",\"!\",\"&\"]\n",
        "cont=[]\n",
        "for letra in name:\n",
        "  cont.append(letra)\n",
        "print(cont)"
      ],
      "metadata": {
        "id": "c3ooTSejOy0Z",
        "colab": {
          "base_uri": "https://localhost:8080/"
        },
        "outputId": "114ced20-9f0a-4242-f9a5-c8e1412419bc"
      },
      "execution_count": 31,
      "outputs": [
        {
          "output_type": "stream",
          "name": "stdout",
          "text": [
            "['M', 'i', 'g', 'u', 'e', 'l']\n"
          ]
        }
      ]
    },
    {
      "cell_type": "code",
      "source": [
        "A=[[1,2,3],[4,5,6],[7,8,9]]\n",
        "B=[[1,2,3],[4,5,6],[7,8,9]]\n",
        "print(A[0][0],A[0][1],A[0][2])\n",
        "for j in range(len(A)):\n",
        "  print(A[0][j])#Horizontal\n",
        "  print(A[j][0])#Vertical"
      ],
      "metadata": {
        "colab": {
          "base_uri": "https://localhost:8080/"
        },
        "id": "3B9FI2USTCWa",
        "outputId": "3f90267a-1116-48bb-9b94-4fd354e0fce5"
      },
      "execution_count": null,
      "outputs": [
        {
          "output_type": "stream",
          "name": "stdout",
          "text": [
            "1 2 3\n",
            "1\n",
            "1\n",
            "2\n",
            "4\n",
            "3\n",
            "7\n"
          ]
        }
      ]
    },
    {
      "cell_type": "code",
      "source": [
        "for i in range(len(A)):\n",
        "  for j in range(len(A)):\n",
        "    print(A[i][j]+B[i][j])"
      ],
      "metadata": {
        "colab": {
          "base_uri": "https://localhost:8080/"
        },
        "id": "-D58IPv9WzO9",
        "outputId": "dfb2bc4e-6b1b-4271-866f-5c4ca2a05103"
      },
      "execution_count": null,
      "outputs": [
        {
          "output_type": "stream",
          "name": "stdout",
          "text": [
            "2\n",
            "4\n",
            "6\n",
            "8\n",
            "10\n",
            "12\n",
            "14\n",
            "16\n",
            "18\n"
          ]
        }
      ]
    }
  ]
}